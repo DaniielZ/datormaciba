{
 "cells": [
  {
   "cell_type": "code",
   "execution_count": null,
   "metadata": {},
   "outputs": [
    {
     "name": "stdout",
     "output_type": "stream",
     "text": [
      "needed:  13.370533705337053\n",
      "closest:  [14.10674107  0.24444444]\n"
     ]
    },
    {
     "data": {
      "image/png": "[encoded data removed]",
      "text/plain": [
       "<Figure size 640x480 with 1 Axes>"
      ]
     },
     "metadata": {},
     "output_type": "display_data"
    },
    {
     "ename": "",
     "evalue": "",
     "output_type": "error",
     "traceback": [
      "\u001b[1;31mThe Kernel crashed while executing code in the current cell or a previous cell. \n",
      "\u001b[1;31mPlease review the code in the cell(s) to identify a possible cause of the failure. \n",
      "\u001b[1;31mClick <a href='https://aka.ms/vscodeJupyterKernelCrash'>here</a> for more info. \n",
      "\u001b[1;31mView Jupyter <a href='command:jupyter.viewOutput'>log</a> for further details."
     ]
    }
   ],
   "source": [
    "from scipy.integrate import solve_ivp\n",
    "import numpy as np\n",
    "import matplotlib.pyplot as plt\n",
    "\n",
    "\n",
    "\n",
    "def diferential_equation_air(t, state):\n",
    "  theta, omega = state\n",
    "  \n",
    "  mass = 1000\n",
    "  g = -9.8\n",
    "  l = 0.1\n",
    "  Cd = 0.5\n",
    "  rho = 1.24\n",
    "  A = 1\n",
    "  \n",
    "  \n",
    "  alpha = (mass*g*np.sin(theta) - 0.5*rho*Cd*A*omega**2 * np.sign(omega))/(mass*l**2)\n",
    "  return [omega, alpha]\n",
    "\n",
    "\n",
    "def diferential_equation_spring(t, state):\n",
    "\n",
    "  theta, omega = state\n",
    "  mass = 1\n",
    "  g = -9.8\n",
    "  l = 1\n",
    "  k = 2e7\n",
    "  \n",
    "  alpha = (mass*g*np.sin(theta) - k*theta)/(mass*l**2)\n",
    "  return [omega, alpha]\n",
    "\n",
    "t0 = 0\n",
    "tf = 60*3\n",
    "state0 = [np.pi/6, 0]\n",
    "\n",
    "solution = solve_ivp(diferential_equation_air, [t0, tf], state0, t_eval=np.linspace(t0, tf, 100000))\n",
    "\n",
    "# solution_spring = solve_ivp(diferential_equation_spring, [t0, tf], state0, t_eval=np.linspace(t0, tf, 10000))\n",
    "\n",
    "# find when amplitude is half of the initial amplitude\n",
    "last_half = 0\n",
    "for i in range(len(solution.y[0])):\n",
    "  if solution.y[0][i] >= 0.5*state0[0]:\n",
    "    last = i\n",
    "  \n",
    "print(\"needed: \", 3*solution.t[last])\n",
    "needed_t = 3*solution.t[last]\n",
    "\n",
    "#find closest max near 3*amplitude_at\n",
    "#2d\n",
    "results = np.array([]).reshape(0, 2)\n",
    "for i in np.linspace(0.2,0.4, 10):\n",
    "  last_half = 0\n",
    "  for ii in range(len(solution.y[0])):\n",
    "    if solution.y[0][ii] >= i*state0[0]:\n",
    "      last = ii\n",
    "    \n",
    "  results = np.append(results, [[solution.t[last], i]], axis=0)\n",
    "  \n",
    "#find closest to needed_t and print\n",
    "closest = np.argmin(np.abs(results[:,0] - needed_t))\n",
    "print(\"closest: \", results[closest])\n",
    "\n",
    "\n",
    "\n",
    "plt.plot(solution.t, np.rad2deg(solution.y[0]))\n",
    "# plt.plot(solution_spring.t, np.rad2deg(solution_spring.y[0]))\n",
    "plt.show()"
   ]
  }
 ],
 "metadata": {
  "kernelspec": {
   "display_name": "base",
   "language": "python",
   "name": "python3"
  },
  "language_info": {
   "codemirror_mode": {
    "name": "ipython",
    "version": 3
   },
   "file_extension": ".py",
   "mimetype": "text/x-python",
   "name": "python",
   "nbconvert_exporter": "python",
   "pygments_lexer": "ipython3",
   "version": "3.11.4"
  }
 },
 "nbformat": 4,
 "nbformat_minor": 2
}
